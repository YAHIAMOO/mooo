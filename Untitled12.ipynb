{
 "cells": [
  {
   "cell_type": "code",
   "execution_count": 3,
   "id": "a6a054ce-31b4-44b8-9993-cae5fbc5ff72",
   "metadata": {},
   "outputs": [
    {
     "name": "stdin",
     "output_type": "stream",
     "text": [
      "enter any number you want 2\n",
      "enter any number you want 0\n",
      "opearation /: /\n"
     ]
    },
    {
     "name": "stdout",
     "output_type": "stream",
     "text": [
      "error\n"
     ]
    },
    {
     "name": "stdin",
     "output_type": "stream",
     "text": [
      "enter any number again 0\n"
     ]
    },
    {
     "name": "stdout",
     "output_type": "stream",
     "text": [
      "error\n"
     ]
    },
    {
     "name": "stdin",
     "output_type": "stream",
     "text": [
      "enter any number again 0\n"
     ]
    },
    {
     "name": "stdout",
     "output_type": "stream",
     "text": [
      "error\n"
     ]
    },
    {
     "name": "stdin",
     "output_type": "stream",
     "text": [
      "enter any number again 7\n"
     ]
    },
    {
     "name": "stdout",
     "output_type": "stream",
     "text": [
      "0.2857142857142857\n"
     ]
    }
   ],
   "source": [
    "num1=float(input(\"enter any number you want\"))\n",
    "num2=float(input(\"enter any number you want\"))\n",
    "opearation=input(\"opearation /:\")\n",
    "if opearation=='/':\n",
    "    while num2==0:\n",
    "        print(\"error\")\n",
    "        num2=float(input(\"enter any number again\"))\n",
    "    print(num1/num2)\n",
    "else:\n",
    "    print(\"error\")"
   ]
  },
  {
   "cell_type": "code",
   "execution_count": 7,
   "id": "dbf91350-fbfb-4961-a2ca-00127b9c06b4",
   "metadata": {},
   "outputs": [
    {
     "name": "stdout",
     "output_type": "stream",
     "text": [
      "1\n",
      "2\n",
      "3\n",
      "4\n",
      "5\n",
      "6\n",
      "7\n",
      "8\n",
      "9\n",
      "10\n",
      "11\n",
      "12\n",
      "13\n",
      "14\n",
      "15\n",
      "16\n",
      "17\n",
      "18\n",
      "19\n",
      "20\n",
      "21\n",
      "22\n",
      "23\n",
      "24\n",
      "25\n",
      "26\n",
      "27\n",
      "28\n",
      "29\n",
      "30\n",
      "31\n",
      "32\n",
      "33\n",
      "34\n",
      "35\n",
      "36\n",
      "37\n",
      "38\n",
      "39\n",
      "40\n",
      "41\n",
      "42\n",
      "43\n",
      "44\n",
      "45\n",
      "46\n",
      "47\n",
      "48\n",
      "49\n",
      "50\n",
      "51\n",
      "52\n",
      "53\n",
      "54\n",
      "55\n",
      "56\n",
      "57\n",
      "58\n",
      "59\n",
      "60\n",
      "61\n",
      "62\n",
      "63\n",
      "64\n",
      "65\n",
      "66\n",
      "67\n",
      "68\n",
      "69\n",
      "70\n",
      "71\n",
      "72\n",
      "73\n",
      "74\n",
      "75\n",
      "76\n",
      "77\n",
      "78\n",
      "79\n",
      "80\n",
      "81\n",
      "82\n",
      "83\n",
      "84\n",
      "85\n",
      "86\n",
      "87\n",
      "88\n",
      "89\n",
      "90\n",
      "91\n",
      "92\n",
      "93\n",
      "94\n",
      "95\n",
      "96\n",
      "97\n",
      "98\n",
      "99\n",
      "100\n"
     ]
    }
   ],
   "source": [
    "for i in range(1,101):\n",
    "    print(i)"
   ]
  },
  {
   "cell_type": "code",
   "execution_count": 26,
   "id": "6ce42b79-c85c-4c57-9054-de8c2c21a692",
   "metadata": {},
   "outputs": [
    {
     "name": "stdout",
     "output_type": "stream",
     "text": [
      "a b c d e f g h i j k l m n o p q r s t u v w x y z "
     ]
    }
   ],
   "source": [
    "for i in range(ord(\"a\"),ord(\"z\")+1):\n",
    "    print(chr(i),end=(\" \"))"
   ]
  },
  {
   "cell_type": "code",
   "execution_count": 28,
   "id": "f1678abb-a3dd-420c-8e65-ca86cb18437c",
   "metadata": {},
   "outputs": [
    {
     "name": "stdout",
     "output_type": "stream",
     "text": [
      "a\n",
      "b\n",
      "c\n",
      "d\n",
      "e\n",
      "f\n",
      "g\n",
      "h\n",
      "i\n",
      "j\n",
      "k\n",
      "l\n",
      "m\n",
      "n\n",
      "o\n",
      "p\n",
      "q\n",
      "r\n",
      "s\n",
      "t\n",
      "u\n",
      "v\n",
      "w\n",
      "x\n",
      "y\n",
      "z\n"
     ]
    }
   ],
   "source": [
    "for i in range(ord(\"a\"),ord(\"z\")+1):\n",
    "    print(chr(i))"
   ]
  },
  {
   "cell_type": "code",
   "execution_count": 13,
   "id": "679c7b84-4e6a-427d-ae36-8a0fbd483a20",
   "metadata": {},
   "outputs": [
    {
     "name": "stdin",
     "output_type": "stream",
     "text": [
      "enter any number you want 0 9 8 7 6 5 4 3\n"
     ]
    }
   ],
   "source": [
    "numbers=input(\"enter any number you want\").split()\n",
    "numbers=list(map(int,numbers))\n",
    "odd=[]\n",
    "sum1=0"
   ]
  },
  {
   "cell_type": "code",
   "execution_count": 15,
   "id": "24d92ce0-b52b-4945-9c80-da5d91b20db3",
   "metadata": {},
   "outputs": [
    {
     "name": "stdout",
     "output_type": "stream",
     "text": [
      "[9, 7, 5, 3]\n",
      "24\n"
     ]
    }
   ],
   "source": [
    "for num in numbers:\n",
    "    if num%2!=0:\n",
    "        odd.append(num)\n",
    "        sum1+=num\n",
    "print(odd)\n",
    "print(sum1)"
   ]
  },
  {
   "cell_type": "code",
   "execution_count": 21,
   "id": "3e436983-5a08-4622-bd9e-d3b939241d4a",
   "metadata": {},
   "outputs": [
    {
     "name": "stdin",
     "output_type": "stream",
     "text": [
      "enter any threshold 24\n"
     ]
    },
    {
     "name": "stdout",
     "output_type": "stream",
     "text": [
      "the sum 24 equal to threshold\n"
     ]
    }
   ],
   "source": [
    "threshold=int(input(\"enter any threshold\"))\n",
    "if sum1>threshold:\n",
    "    print(f\"the sum {sum1} greater than threshold\")\n",
    "elif sum1==threshold:\n",
    "    print(f\"the sum {sum1} equal to threshold\")\n",
    "else:\n",
    "    print(f\"the sum {sum1} smaller than threshold\")"
   ]
  },
  {
   "cell_type": "code",
   "execution_count": 23,
   "id": "a2d8fefe-d6d0-4e5d-84f8-01e043162a89",
   "metadata": {},
   "outputs": [
    {
     "name": "stdin",
     "output_type": "stream",
     "text": [
      "enter any number you want 19\n",
      "enter your name yahia\n"
     ]
    },
    {
     "name": "stdout",
     "output_type": "stream",
     "text": [
      "your name is yahia you are 19 years old\n"
     ]
    }
   ],
   "source": [
    "age=int(input(\"enter any number you want\"))\n",
    "name=str(input(\"enter your name\"))\n",
    "print(f\"your name is {name} you are {age} years old\")"
   ]
  },
  {
   "cell_type": "code",
   "execution_count": 12,
   "id": "1afa7895-a8b1-48f1-85f7-9c69d7b06c63",
   "metadata": {},
   "outputs": [
    {
     "data": {
      "text/plain": [
       "'YAHIA MOSTAFA'"
      ]
     },
     "execution_count": 12,
     "metadata": {},
     "output_type": "execute_result"
    }
   ],
   "source": [
    "x=\"yahia mostafa\"\n",
    "x.upper()\n"
   ]
  },
  {
   "cell_type": "code",
   "execution_count": 14,
   "id": "f1f70d36-1e0e-4f8c-9f49-e30eb1a964ff",
   "metadata": {},
   "outputs": [
    {
     "data": {
      "text/plain": [
       "'yahia mostafa'"
      ]
     },
     "execution_count": 14,
     "metadata": {},
     "output_type": "execute_result"
    }
   ],
   "source": [
    "x.lower()"
   ]
  },
  {
   "cell_type": "code",
   "execution_count": 3,
   "id": "8b0530dd-9b1a-4f24-8217-6be2b42ba3ae",
   "metadata": {},
   "outputs": [
    {
     "name": "stdin",
     "output_type": "stream",
     "text": [
      "enter num1 9\n",
      "enter num2 0\n"
     ]
    },
    {
     "name": "stdout",
     "output_type": "stream",
     "text": [
      "error\n"
     ]
    },
    {
     "name": "stdin",
     "output_type": "stream",
     "text": [
      "enter num2 again 0\n"
     ]
    },
    {
     "name": "stdout",
     "output_type": "stream",
     "text": [
      "error\n"
     ]
    },
    {
     "name": "stdin",
     "output_type": "stream",
     "text": [
      "enter num2 again 0\n"
     ]
    },
    {
     "name": "stdout",
     "output_type": "stream",
     "text": [
      "error\n"
     ]
    },
    {
     "name": "stdin",
     "output_type": "stream",
     "text": [
      "enter num2 again 0\n"
     ]
    },
    {
     "name": "stdout",
     "output_type": "stream",
     "text": [
      "error\n"
     ]
    },
    {
     "name": "stdin",
     "output_type": "stream",
     "text": [
      "enter num2 again 0\n"
     ]
    },
    {
     "name": "stdout",
     "output_type": "stream",
     "text": [
      "error\n"
     ]
    },
    {
     "name": "stdin",
     "output_type": "stream",
     "text": [
      "enter num2 again 0\n"
     ]
    },
    {
     "name": "stdout",
     "output_type": "stream",
     "text": [
      "error\n"
     ]
    },
    {
     "name": "stdin",
     "output_type": "stream",
     "text": [
      "enter num2 again 0\n"
     ]
    },
    {
     "name": "stdout",
     "output_type": "stream",
     "text": [
      "error\n"
     ]
    },
    {
     "name": "stdin",
     "output_type": "stream",
     "text": [
      "enter num2 again 9\n"
     ]
    },
    {
     "name": "stdout",
     "output_type": "stream",
     "text": [
      "1.0\n"
     ]
    }
   ],
   "source": [
    "def clculator(num1,num2):\n",
    "    num1=float(input(\"enter num1\"))\n",
    "    num2=float(input(\"enter num2\"))\n",
    "    while num2==0:\n",
    "        print(\"error\")\n",
    "        num2=float(input(\"enter num2 again\"))\n",
    "    print(num1/num2)\n",
    "clculator(0,0)"
   ]
  },
  {
   "cell_type": "code",
   "execution_count": null,
   "id": "756a5852-2bd8-4a07-a0c9-b085fcb3741a",
   "metadata": {},
   "outputs": [],
   "source": []
  }
 ],
 "metadata": {
  "kernelspec": {
   "display_name": "Python 3 (ipykernel)",
   "language": "python",
   "name": "python3"
  },
  "language_info": {
   "codemirror_mode": {
    "name": "ipython",
    "version": 3
   },
   "file_extension": ".py",
   "mimetype": "text/x-python",
   "name": "python",
   "nbconvert_exporter": "python",
   "pygments_lexer": "ipython3",
   "version": "3.12.7"
  }
 },
 "nbformat": 4,
 "nbformat_minor": 5
}
